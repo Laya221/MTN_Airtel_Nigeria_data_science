{
 "cells": [
  {
   "cell_type": "code",
   "execution_count": 31,
   "id": "61d09290-68b0-4274-b381-3a7c1ae4e24e",
   "metadata": {},
   "outputs": [],
   "source": [
    "import pandas as pd\n",
    "import numpy as np\n",
    "df=pd.read_csv('airtel_likes.csv')"
   ]
  },
  {
   "cell_type": "code",
   "execution_count": 38,
   "id": "8ec3688b-5de1-4fac-b4e0-e11c6af464b6",
   "metadata": {},
   "outputs": [
    {
     "name": "stdout",
     "output_type": "stream",
     "text": [
      "55\n"
     ]
    }
   ],
   "source": [
    "unique_facebook_ids = np.unique(df['facebookId'])\n",
    "\n",
    "print(len(unique_facebook_ids))"
   ]
  },
  {
   "cell_type": "code",
   "execution_count": null,
   "id": "4becb7dd-ec83-46ac-b13f-06f879bdc3cb",
   "metadata": {},
   "outputs": [],
   "source": []
  }
 ],
 "metadata": {
  "kernelspec": {
   "display_name": "Python 3 (ipykernel)",
   "language": "python",
   "name": "python3"
  },
  "language_info": {
   "codemirror_mode": {
    "name": "ipython",
    "version": 3
   },
   "file_extension": ".py",
   "mimetype": "text/x-python",
   "name": "python",
   "nbconvert_exporter": "python",
   "pygments_lexer": "ipython3",
   "version": "3.12.7"
  }
 },
 "nbformat": 4,
 "nbformat_minor": 5
}
