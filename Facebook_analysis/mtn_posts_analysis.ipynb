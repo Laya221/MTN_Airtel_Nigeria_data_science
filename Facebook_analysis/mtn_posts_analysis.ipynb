{
 "cells": [
  {
   "cell_type": "code",
   "execution_count": 1,
   "id": "2233969d-a2f8-42ab-ad63-a01df427980d",
   "metadata": {},
   "outputs": [],
   "source": [
    "import pandas as pd\n",
    "df2=pd.read_csv('mtn_post_analysis.csv')\n",
    "#df=pd.read_csv('../Datasets/2mtn_posts_final.csv')"
   ]
  },
  {
   "cell_type": "code",
   "execution_count": 2,
   "id": "07e0c5a8-acef-4fc6-ba59-43a38d7d728b",
   "metadata": {},
   "outputs": [
    {
     "data": {
      "text/html": [
       "<div>\n",
       "<style scoped>\n",
       "    .dataframe tbody tr th:only-of-type {\n",
       "        vertical-align: middle;\n",
       "    }\n",
       "\n",
       "    .dataframe tbody tr th {\n",
       "        vertical-align: top;\n",
       "    }\n",
       "\n",
       "    .dataframe thead th {\n",
       "        text-align: right;\n",
       "    }\n",
       "</style>\n",
       "<table border=\"1\" class=\"dataframe\">\n",
       "  <thead>\n",
       "    <tr style=\"text-align: right;\">\n",
       "      <th></th>\n",
       "      <th>comments</th>\n",
       "      <th>facebookId</th>\n",
       "      <th>facebookUrl</th>\n",
       "      <th>feedbackId</th>\n",
       "      <th>isVideo</th>\n",
       "      <th>likes</th>\n",
       "      <th>link</th>\n",
       "      <th>media/0/__isMedia</th>\n",
       "      <th>media/0/__typename</th>\n",
       "      <th>media/0/accent_color</th>\n",
       "      <th>...</th>\n",
       "      <th>text</th>\n",
       "      <th>time</th>\n",
       "      <th>timestamp</th>\n",
       "      <th>topLevelUrl</th>\n",
       "      <th>url</th>\n",
       "      <th>user/id</th>\n",
       "      <th>user/name</th>\n",
       "      <th>user/profilePic</th>\n",
       "      <th>user/profileUrl</th>\n",
       "      <th>viewsCount</th>\n",
       "    </tr>\n",
       "  </thead>\n",
       "  <tbody>\n",
       "    <tr>\n",
       "      <th>0</th>\n",
       "      <td>59</td>\n",
       "      <td>100064654120736</td>\n",
       "      <td>https://www.facebook.com/MTNLoaded</td>\n",
       "      <td>ZmVlZGJhY2s6OTY0ODMwMjg1NjgyMTAw</td>\n",
       "      <td>True</td>\n",
       "      <td>39</td>\n",
       "      <td>NaN</td>\n",
       "      <td>NaN</td>\n",
       "      <td>Video</td>\n",
       "      <td>NaN</td>\n",
       "      <td>...</td>\n",
       "      <td>See Naija! See Fashion!\\n\\nCrafting tradition,...</td>\n",
       "      <td>2024-12-04T12:07:10.000Z</td>\n",
       "      <td>1733314030</td>\n",
       "      <td>https://www.facebook.com/100064654120736/posts...</td>\n",
       "      <td>https://www.facebook.com/MTNLoaded/videos/5831...</td>\n",
       "      <td>100064654120736</td>\n",
       "      <td>MTN Nigeria</td>\n",
       "      <td>https://scontent-dfw5-1.xx.fbcdn.net/v/t39.308...</td>\n",
       "      <td>https://www.facebook.com/MTNLoaded</td>\n",
       "      <td>360.0</td>\n",
       "    </tr>\n",
       "    <tr>\n",
       "      <th>1</th>\n",
       "      <td>58</td>\n",
       "      <td>100064654120736</td>\n",
       "      <td>https://www.facebook.com/MTNLoaded</td>\n",
       "      <td>ZmVlZGJhY2s6OTY0MzEzMTEyNDAwNDg0</td>\n",
       "      <td>True</td>\n",
       "      <td>60</td>\n",
       "      <td>NaN</td>\n",
       "      <td>NaN</td>\n",
       "      <td>Video</td>\n",
       "      <td>NaN</td>\n",
       "      <td>...</td>\n",
       "      <td>Today, we celebrated the International Day of ...</td>\n",
       "      <td>2024-12-03T17:44:05.000Z</td>\n",
       "      <td>1733247845</td>\n",
       "      <td>https://www.facebook.com/100064654120736/posts...</td>\n",
       "      <td>https://www.facebook.com/MTNLoaded/videos/1572...</td>\n",
       "      <td>100064654120736</td>\n",
       "      <td>MTN Nigeria</td>\n",
       "      <td>https://scontent-dfw5-1.xx.fbcdn.net/v/t39.308...</td>\n",
       "      <td>https://www.facebook.com/MTNLoaded</td>\n",
       "      <td>1002.0</td>\n",
       "    </tr>\n",
       "    <tr>\n",
       "      <th>2</th>\n",
       "      <td>35</td>\n",
       "      <td>100064654120736</td>\n",
       "      <td>https://www.facebook.com/MTNLoaded</td>\n",
       "      <td>ZmVlZGJhY2s6OTY0MTgzNjk5MDgwMDky</td>\n",
       "      <td>True</td>\n",
       "      <td>46</td>\n",
       "      <td>NaN</td>\n",
       "      <td>NaN</td>\n",
       "      <td>Video</td>\n",
       "      <td>NaN</td>\n",
       "      <td>...</td>\n",
       "      <td>Learning adventures have no limits with the MT...</td>\n",
       "      <td>2024-12-03T13:44:45.000Z</td>\n",
       "      <td>1733233485</td>\n",
       "      <td>https://www.facebook.com/100064654120736/posts...</td>\n",
       "      <td>https://www.facebook.com/MTNLoaded/videos/5978...</td>\n",
       "      <td>100064654120736</td>\n",
       "      <td>MTN Nigeria</td>\n",
       "      <td>https://scontent-dfw5-1.xx.fbcdn.net/v/t39.308...</td>\n",
       "      <td>https://www.facebook.com/MTNLoaded</td>\n",
       "      <td>226.0</td>\n",
       "    </tr>\n",
       "    <tr>\n",
       "      <th>3</th>\n",
       "      <td>73</td>\n",
       "      <td>100064654120736</td>\n",
       "      <td>https://www.facebook.com/MTNLoaded</td>\n",
       "      <td>ZmVlZGJhY2s6OTY0MDU0NjQyNDI2MzMx</td>\n",
       "      <td>NaN</td>\n",
       "      <td>135</td>\n",
       "      <td>https://mtnapp.page.link/myMTNNGApp</td>\n",
       "      <td>Photo</td>\n",
       "      <td>Photo</td>\n",
       "      <td>FFFCCB05</td>\n",
       "      <td>...</td>\n",
       "      <td>Great things come on Tuesdays! 💃\\n\\nGet 1GB fo...</td>\n",
       "      <td>2024-12-03T09:27:36.000Z</td>\n",
       "      <td>1733218056</td>\n",
       "      <td>https://www.facebook.com/100064654120736/posts...</td>\n",
       "      <td>https://www.facebook.com/MTNLoaded/posts/pfbid...</td>\n",
       "      <td>100064654120736</td>\n",
       "      <td>MTN Nigeria</td>\n",
       "      <td>https://scontent.fagc3-2.fna.fbcdn.net/v/t39.3...</td>\n",
       "      <td>https://www.facebook.com/MTNLoaded</td>\n",
       "      <td>NaN</td>\n",
       "    </tr>\n",
       "    <tr>\n",
       "      <th>4</th>\n",
       "      <td>105</td>\n",
       "      <td>100064654120736</td>\n",
       "      <td>https://www.facebook.com/MTNLoaded</td>\n",
       "      <td>ZmVlZGJhY2s6OTYzNDkyMjYyNDgyNTY5</td>\n",
       "      <td>True</td>\n",
       "      <td>289</td>\n",
       "      <td>NaN</td>\n",
       "      <td>NaN</td>\n",
       "      <td>Video</td>\n",
       "      <td>NaN</td>\n",
       "      <td>...</td>\n",
       "      <td>See Naija!\\nThis is Rayfield Lake – a peaceful...</td>\n",
       "      <td>2024-12-02T14:53:08.000Z</td>\n",
       "      <td>1733151188</td>\n",
       "      <td>https://www.facebook.com/100064654120736/posts...</td>\n",
       "      <td>https://www.facebook.com/MTNLoaded/videos/1153...</td>\n",
       "      <td>100064654120736</td>\n",
       "      <td>MTN Nigeria</td>\n",
       "      <td>https://scontent.fagc3-2.fna.fbcdn.net/v/t39.3...</td>\n",
       "      <td>https://www.facebook.com/MTNLoaded</td>\n",
       "      <td>4823.0</td>\n",
       "    </tr>\n",
       "  </tbody>\n",
       "</table>\n",
       "<p>5 rows × 426 columns</p>\n",
       "</div>"
      ],
      "text/plain": [
       "   comments       facebookId                         facebookUrl  \\\n",
       "0        59  100064654120736  https://www.facebook.com/MTNLoaded   \n",
       "1        58  100064654120736  https://www.facebook.com/MTNLoaded   \n",
       "2        35  100064654120736  https://www.facebook.com/MTNLoaded   \n",
       "3        73  100064654120736  https://www.facebook.com/MTNLoaded   \n",
       "4       105  100064654120736  https://www.facebook.com/MTNLoaded   \n",
       "\n",
       "                         feedbackId isVideo  likes  \\\n",
       "0  ZmVlZGJhY2s6OTY0ODMwMjg1NjgyMTAw    True     39   \n",
       "1  ZmVlZGJhY2s6OTY0MzEzMTEyNDAwNDg0    True     60   \n",
       "2  ZmVlZGJhY2s6OTY0MTgzNjk5MDgwMDky    True     46   \n",
       "3  ZmVlZGJhY2s6OTY0MDU0NjQyNDI2MzMx     NaN    135   \n",
       "4  ZmVlZGJhY2s6OTYzNDkyMjYyNDgyNTY5    True    289   \n",
       "\n",
       "                                  link media/0/__isMedia media/0/__typename  \\\n",
       "0                                  NaN               NaN              Video   \n",
       "1                                  NaN               NaN              Video   \n",
       "2                                  NaN               NaN              Video   \n",
       "3  https://mtnapp.page.link/myMTNNGApp             Photo              Photo   \n",
       "4                                  NaN               NaN              Video   \n",
       "\n",
       "  media/0/accent_color  ...  \\\n",
       "0                  NaN  ...   \n",
       "1                  NaN  ...   \n",
       "2                  NaN  ...   \n",
       "3             FFFCCB05  ...   \n",
       "4                  NaN  ...   \n",
       "\n",
       "                                                text  \\\n",
       "0  See Naija! See Fashion!\\n\\nCrafting tradition,...   \n",
       "1  Today, we celebrated the International Day of ...   \n",
       "2  Learning adventures have no limits with the MT...   \n",
       "3  Great things come on Tuesdays! 💃\\n\\nGet 1GB fo...   \n",
       "4  See Naija!\\nThis is Rayfield Lake – a peaceful...   \n",
       "\n",
       "                       time   timestamp  \\\n",
       "0  2024-12-04T12:07:10.000Z  1733314030   \n",
       "1  2024-12-03T17:44:05.000Z  1733247845   \n",
       "2  2024-12-03T13:44:45.000Z  1733233485   \n",
       "3  2024-12-03T09:27:36.000Z  1733218056   \n",
       "4  2024-12-02T14:53:08.000Z  1733151188   \n",
       "\n",
       "                                         topLevelUrl  \\\n",
       "0  https://www.facebook.com/100064654120736/posts...   \n",
       "1  https://www.facebook.com/100064654120736/posts...   \n",
       "2  https://www.facebook.com/100064654120736/posts...   \n",
       "3  https://www.facebook.com/100064654120736/posts...   \n",
       "4  https://www.facebook.com/100064654120736/posts...   \n",
       "\n",
       "                                                 url          user/id  \\\n",
       "0  https://www.facebook.com/MTNLoaded/videos/5831...  100064654120736   \n",
       "1  https://www.facebook.com/MTNLoaded/videos/1572...  100064654120736   \n",
       "2  https://www.facebook.com/MTNLoaded/videos/5978...  100064654120736   \n",
       "3  https://www.facebook.com/MTNLoaded/posts/pfbid...  100064654120736   \n",
       "4  https://www.facebook.com/MTNLoaded/videos/1153...  100064654120736   \n",
       "\n",
       "     user/name                                    user/profilePic  \\\n",
       "0  MTN Nigeria  https://scontent-dfw5-1.xx.fbcdn.net/v/t39.308...   \n",
       "1  MTN Nigeria  https://scontent-dfw5-1.xx.fbcdn.net/v/t39.308...   \n",
       "2  MTN Nigeria  https://scontent-dfw5-1.xx.fbcdn.net/v/t39.308...   \n",
       "3  MTN Nigeria  https://scontent.fagc3-2.fna.fbcdn.net/v/t39.3...   \n",
       "4  MTN Nigeria  https://scontent.fagc3-2.fna.fbcdn.net/v/t39.3...   \n",
       "\n",
       "                      user/profileUrl  viewsCount  \n",
       "0  https://www.facebook.com/MTNLoaded       360.0  \n",
       "1  https://www.facebook.com/MTNLoaded      1002.0  \n",
       "2  https://www.facebook.com/MTNLoaded       226.0  \n",
       "3  https://www.facebook.com/MTNLoaded         NaN  \n",
       "4  https://www.facebook.com/MTNLoaded      4823.0  \n",
       "\n",
       "[5 rows x 426 columns]"
      ]
     },
     "execution_count": 2,
     "metadata": {},
     "output_type": "execute_result"
    }
   ],
   "source": [
    "#df.head()"
   ]
  },
  {
   "cell_type": "code",
   "execution_count": 3,
   "id": "18ec3acb-b614-482b-9ffe-97f3bbbc6148",
   "metadata": {},
   "outputs": [
    {
     "data": {
      "text/plain": [
       "Index(['comments', 'facebookId', 'facebookUrl', 'feedbackId', 'isVideo',\n",
       "       'likes', 'link', 'media/0/__isMedia', 'media/0/__typename',\n",
       "       'media/0/accent_color',\n",
       "       ...\n",
       "       'text', 'time', 'timestamp', 'topLevelUrl', 'url', 'user/id',\n",
       "       'user/name', 'user/profilePic', 'user/profileUrl', 'viewsCount'],\n",
       "      dtype='object', length=426)"
      ]
     },
     "execution_count": 3,
     "metadata": {},
     "output_type": "execute_result"
    }
   ],
   "source": [
    "#df.columns"
   ]
  },
  {
   "cell_type": "code",
   "execution_count": 4,
   "id": "bafbe0dc-bbf1-43e0-9721-eba7d38944d1",
   "metadata": {},
   "outputs": [],
   "source": [
    "#df2 = df[['postId','pageName', 'comments','isVideo','likes','media/0/__typename','shares','text','time','timestamp','url','viewsCount',]]\n",
    "#df2.to_csv('mtn_post_analysis.csv', index=False)  # Set index=False to avoid writing row indices\n"
   ]
  },
  {
   "cell_type": "code",
   "execution_count": 5,
   "id": "547cb20c-36ac-4bbb-ac19-f5d9c70454b4",
   "metadata": {},
   "outputs": [
    {
     "data": {
      "text/html": [
       "<div>\n",
       "<style scoped>\n",
       "    .dataframe tbody tr th:only-of-type {\n",
       "        vertical-align: middle;\n",
       "    }\n",
       "\n",
       "    .dataframe tbody tr th {\n",
       "        vertical-align: top;\n",
       "    }\n",
       "\n",
       "    .dataframe thead th {\n",
       "        text-align: right;\n",
       "    }\n",
       "</style>\n",
       "<table border=\"1\" class=\"dataframe\">\n",
       "  <thead>\n",
       "    <tr style=\"text-align: right;\">\n",
       "      <th></th>\n",
       "      <th>postId</th>\n",
       "      <th>pageName</th>\n",
       "      <th>comments</th>\n",
       "      <th>isVideo</th>\n",
       "      <th>likes</th>\n",
       "      <th>media/0/__typename</th>\n",
       "      <th>shares</th>\n",
       "      <th>text</th>\n",
       "      <th>time</th>\n",
       "      <th>timestamp</th>\n",
       "      <th>url</th>\n",
       "      <th>viewsCount</th>\n",
       "    </tr>\n",
       "  </thead>\n",
       "  <tbody>\n",
       "    <tr>\n",
       "      <th>0</th>\n",
       "      <td>964830285682100</td>\n",
       "      <td>MTNLoaded</td>\n",
       "      <td>59</td>\n",
       "      <td>True</td>\n",
       "      <td>39</td>\n",
       "      <td>Video</td>\n",
       "      <td>4</td>\n",
       "      <td>See Naija! See Fashion!\\n\\nCrafting tradition,...</td>\n",
       "      <td>2024-12-04T12:07:10.000Z</td>\n",
       "      <td>1733314030</td>\n",
       "      <td>https://www.facebook.com/MTNLoaded/videos/5831...</td>\n",
       "      <td>360.0</td>\n",
       "    </tr>\n",
       "    <tr>\n",
       "      <th>1</th>\n",
       "      <td>964313112400484</td>\n",
       "      <td>MTNLoaded</td>\n",
       "      <td>58</td>\n",
       "      <td>True</td>\n",
       "      <td>60</td>\n",
       "      <td>Video</td>\n",
       "      <td>6</td>\n",
       "      <td>Today, we celebrated the International Day of ...</td>\n",
       "      <td>2024-12-03T17:44:05.000Z</td>\n",
       "      <td>1733247845</td>\n",
       "      <td>https://www.facebook.com/MTNLoaded/videos/1572...</td>\n",
       "      <td>1002.0</td>\n",
       "    </tr>\n",
       "    <tr>\n",
       "      <th>2</th>\n",
       "      <td>964183699080092</td>\n",
       "      <td>MTNLoaded</td>\n",
       "      <td>35</td>\n",
       "      <td>True</td>\n",
       "      <td>46</td>\n",
       "      <td>Video</td>\n",
       "      <td>4</td>\n",
       "      <td>Learning adventures have no limits with the MT...</td>\n",
       "      <td>2024-12-03T13:44:45.000Z</td>\n",
       "      <td>1733233485</td>\n",
       "      <td>https://www.facebook.com/MTNLoaded/videos/5978...</td>\n",
       "      <td>226.0</td>\n",
       "    </tr>\n",
       "    <tr>\n",
       "      <th>3</th>\n",
       "      <td>964054642426331</td>\n",
       "      <td>MTNLoaded</td>\n",
       "      <td>73</td>\n",
       "      <td>NaN</td>\n",
       "      <td>135</td>\n",
       "      <td>Photo</td>\n",
       "      <td>13</td>\n",
       "      <td>Great things come on Tuesdays! 💃\\n\\nGet 1GB fo...</td>\n",
       "      <td>2024-12-03T09:27:36.000Z</td>\n",
       "      <td>1733218056</td>\n",
       "      <td>https://www.facebook.com/MTNLoaded/posts/pfbid...</td>\n",
       "      <td>NaN</td>\n",
       "    </tr>\n",
       "    <tr>\n",
       "      <th>4</th>\n",
       "      <td>963492262482569</td>\n",
       "      <td>MTNLoaded</td>\n",
       "      <td>105</td>\n",
       "      <td>True</td>\n",
       "      <td>289</td>\n",
       "      <td>Video</td>\n",
       "      <td>119</td>\n",
       "      <td>See Naija!\\nThis is Rayfield Lake – a peaceful...</td>\n",
       "      <td>2024-12-02T14:53:08.000Z</td>\n",
       "      <td>1733151188</td>\n",
       "      <td>https://www.facebook.com/MTNLoaded/videos/1153...</td>\n",
       "      <td>4823.0</td>\n",
       "    </tr>\n",
       "  </tbody>\n",
       "</table>\n",
       "</div>"
      ],
      "text/plain": [
       "            postId   pageName  comments isVideo  likes media/0/__typename  \\\n",
       "0  964830285682100  MTNLoaded        59    True     39              Video   \n",
       "1  964313112400484  MTNLoaded        58    True     60              Video   \n",
       "2  964183699080092  MTNLoaded        35    True     46              Video   \n",
       "3  964054642426331  MTNLoaded        73     NaN    135              Photo   \n",
       "4  963492262482569  MTNLoaded       105    True    289              Video   \n",
       "\n",
       "   shares                                               text  \\\n",
       "0       4  See Naija! See Fashion!\\n\\nCrafting tradition,...   \n",
       "1       6  Today, we celebrated the International Day of ...   \n",
       "2       4  Learning adventures have no limits with the MT...   \n",
       "3      13  Great things come on Tuesdays! 💃\\n\\nGet 1GB fo...   \n",
       "4     119  See Naija!\\nThis is Rayfield Lake – a peaceful...   \n",
       "\n",
       "                       time   timestamp  \\\n",
       "0  2024-12-04T12:07:10.000Z  1733314030   \n",
       "1  2024-12-03T17:44:05.000Z  1733247845   \n",
       "2  2024-12-03T13:44:45.000Z  1733233485   \n",
       "3  2024-12-03T09:27:36.000Z  1733218056   \n",
       "4  2024-12-02T14:53:08.000Z  1733151188   \n",
       "\n",
       "                                                 url  viewsCount  \n",
       "0  https://www.facebook.com/MTNLoaded/videos/5831...       360.0  \n",
       "1  https://www.facebook.com/MTNLoaded/videos/1572...      1002.0  \n",
       "2  https://www.facebook.com/MTNLoaded/videos/5978...       226.0  \n",
       "3  https://www.facebook.com/MTNLoaded/posts/pfbid...         NaN  \n",
       "4  https://www.facebook.com/MTNLoaded/videos/1153...      4823.0  "
      ]
     },
     "execution_count": 5,
     "metadata": {},
     "output_type": "execute_result"
    }
   ],
   "source": [
    "#df2.head()"
   ]
  },
  {
   "cell_type": "code",
   "execution_count": 6,
   "id": "8a48c1bc-53f7-4dfe-a358-c510cfb15375",
   "metadata": {},
   "outputs": [
    {
     "name": "stdout",
     "output_type": "stream",
     "text": [
      "Total likes for all: 228282\n"
     ]
    }
   ],
   "source": [
    "total_likes = df2['likes'].sum()  # Replace 'likes' with the actual name of your likes column\n",
    "\n",
    "# Step 3: Print the total likes\n",
    "print(\"Total likes for all:\", total_likes)\n"
   ]
  },
  {
   "cell_type": "code",
   "execution_count": 7,
   "id": "a6de48cc-100b-408c-8d62-77a7c00c74b0",
   "metadata": {},
   "outputs": [
    {
     "name": "stdout",
     "output_type": "stream",
     "text": [
      "Total comments for all: 24701\n"
     ]
    }
   ],
   "source": [
    "total_comments = df2['comments'].sum()  # Replace 'likes' with the actual name of your likes column\n",
    "\n",
    "# Step 3: Print the total likes\n",
    "print(\"Total comments for all:\", total_comments)\n"
   ]
  },
  {
   "cell_type": "code",
   "execution_count": 17,
   "id": "a0afa4dd-d776-44e9-9b1c-fcc2dc11ac6d",
   "metadata": {
    "scrolled": true
   },
   "outputs": [
    {
     "name": "stdout",
     "output_type": "stream",
     "text": [
      "The highest likes is: 21078\n",
      "The post with the highest likes is: See Naija! See Osun!\n",
      "\n",
      "The cradle of Yoruba ancestry. Rich in culture, iconic landmark, arts and crafts.\n",
      "\n",
      "Let's see Naija through your lens. \n",
      "\n",
      "Join the movement, upload your content and tell the beautiful Naija story.\n",
      "\n",
      "Visit www.mtn.ng/seenaija to participate\n",
      "\n",
      "#SeeNaija\n",
      "#SeeNaijaWithMTN\n"
     ]
    }
   ],
   "source": [
    "# Get the maximum likes\n",
    "likes_counts = df2['likes'].max()\n",
    "\n",
    "# Get the post text with the highest likes\n",
    "highest_likes_post = df2[df2['likes'] == likes_counts]['text'].iloc[0]\n",
    "\n",
    "print(f\"The highest likes is: {likes_counts}\")\n",
    "print(f\"The post with the highest likes is: {highest_likes_post}\")\n"
   ]
  },
  {
   "cell_type": "code",
   "execution_count": 22,
   "id": "cf0de68a-96d0-4fbf-99ee-c5d464123954",
   "metadata": {},
   "outputs": [
    {
     "name": "stdout",
     "output_type": "stream",
     "text": [
      "Top 5 posts with the highest likes:\n",
      "                                                  text  likes  \\\n",
      "60   See Naija! See Osun!\\n\\nThe cradle of Yoruba a...  21078   \n",
      "94   Moments with Nigerian mothers are always price...  20362   \n",
      "74   See Naija! Welcome to Cross River!\\n\\nThe Peop...  19813   \n",
      "129  The people, The landscape, The culture, \\n\\nTh...  18502   \n",
      "48   Chop life geng!! 😂 Where y’all at?\\n\\nTake a l...  16214   \n",
      "\n",
      "                                                   url  \\\n",
      "60   https://www.facebook.com/MTNLoaded/videos/1592...   \n",
      "94   https://www.facebook.com/MTNLoaded/posts/pfbid...   \n",
      "74   https://www.facebook.com/MTNLoaded/videos/8774...   \n",
      "129  https://www.facebook.com/MTNLoaded/videos/1683...   \n",
      "48   https://www.facebook.com/MTNLoaded/posts/pfbid...   \n",
      "\n",
      "                         time  \n",
      "60   2024-11-02T13:05:38.000Z  \n",
      "94   2024-10-17T09:05:22.000Z  \n",
      "74   2024-10-26T15:20:50.000Z  \n",
      "129  2024-09-29T11:14:54.000Z  \n",
      "48   2024-11-08T15:11:24.000Z  \n"
     ]
    }
   ],
   "source": [
    "# Sort the dataframe by the 'likes' column in descending order\n",
    "sorted_df = df2.sort_values(by='likes', ascending=False)\n",
    "\n",
    "# Get the top 5 posts\n",
    "top_5_posts = sorted_df.head(5)\n",
    "\n",
    "# Display the result\n",
    "print(\"Top 5 posts with the highest likes:\")\n",
    "print(top_5_posts[['text', 'likes','url','time']])\n"
   ]
  },
  {
   "cell_type": "code",
   "execution_count": 21,
   "id": "81282820-5655-4ed1-89ff-60e859b8bdb8",
   "metadata": {},
   "outputs": [
    {
     "name": "stdout",
     "output_type": "stream",
     "text": [
      "Top 5 posts with the highest comments:\n",
      "                                                  text  comments  \\\n",
      "188  You can pay small small with EasyBuy to get it...       600   \n",
      "94   Moments with Nigerian mothers are always price...       599   \n",
      "55   How well do you know Nigeria’s geography?\\n\\nW...       536   \n",
      "34   Juggling motherhood and career? You're not alo...       505   \n",
      "74   See Naija! Welcome to Cross River!\\n\\nThe Peop...       497   \n",
      "\n",
      "                                                   url  \\\n",
      "188  https://www.facebook.com/MTNLoaded/posts/pfbid...   \n",
      "94   https://www.facebook.com/MTNLoaded/posts/pfbid...   \n",
      "55   https://www.facebook.com/MTNLoaded/posts/pfbid...   \n",
      "34   https://www.facebook.com/MTNLoaded/posts/pfbid...   \n",
      "74   https://www.facebook.com/MTNLoaded/videos/8774...   \n",
      "\n",
      "                         time  \n",
      "188  2024-08-22T17:13:52.000Z  \n",
      "94   2024-10-17T09:05:22.000Z  \n",
      "55   2024-11-05T12:53:29.000Z  \n",
      "34   2024-11-15T16:06:06.000Z  \n",
      "74   2024-10-26T15:20:50.000Z  \n"
     ]
    }
   ],
   "source": [
    "# Sort the dataframe by the 'likes' column in descending order\n",
    "sorted_df = df2.sort_values(by='comments', ascending=False)\n",
    "\n",
    "# Get the top 5 posts\n",
    "top_5_posts = sorted_df.head(5)\n",
    "\n",
    "# Display the result\n",
    "print(\"Top 5 posts with the highest comments:\")\n",
    "print(top_5_posts[['text', 'comments','url','time']])\n"
   ]
  },
  {
   "cell_type": "code",
   "execution_count": 24,
   "id": "c18a5fe9-4c13-4b98-afed-586b017a1e71",
   "metadata": {},
   "outputs": [
    {
     "name": "stdout",
     "output_type": "stream",
     "text": [
      "                                                  text  likes  comments  \\\n",
      "60   See Naija! See Osun!\\n\\nThe cradle of Yoruba a...  21078       217   \n",
      "94   Moments with Nigerian mothers are always price...  20362       599   \n",
      "74   See Naija! Welcome to Cross River!\\n\\nThe Peop...  19813       497   \n",
      "129  The people, The landscape, The culture, \\n\\nTh...  18502       354   \n",
      "48   Chop life geng!! 😂 Where y’all at?\\n\\nTake a l...  16214       293   \n",
      "\n",
      "     total_likes_comments                                                url  \\\n",
      "60                  21295  https://www.facebook.com/MTNLoaded/videos/1592...   \n",
      "94                  20961  https://www.facebook.com/MTNLoaded/posts/pfbid...   \n",
      "74                  20310  https://www.facebook.com/MTNLoaded/videos/8774...   \n",
      "129                 18856  https://www.facebook.com/MTNLoaded/videos/1683...   \n",
      "48                  16507  https://www.facebook.com/MTNLoaded/posts/pfbid...   \n",
      "\n",
      "                         time media/0/__typename  \n",
      "60  2024-11-02 13:05:38+00:00              Video  \n",
      "94  2024-10-17 09:05:22+00:00              Photo  \n",
      "74  2024-10-26 15:20:50+00:00              Video  \n",
      "129 2024-09-29 11:14:54+00:00              Video  \n",
      "48  2024-11-08 15:11:24+00:00              Photo  \n"
     ]
    }
   ],
   "source": [
    "# إضافة عمود جديد يحتوي على مجموع الإعجابات والتعليقات\n",
    "df2['total_likes_comments'] = df2['likes'] + df2['comments']\n",
    "\n",
    "# ترتيب الـ DataFrame بناءً على مجموع الإعجابات والتعليقات\n",
    "sorted_df = df2.sort_values(by='total_likes_comments', ascending=False)\n",
    "\n",
    "# الحصول على أعلى 5 منشورات\n",
    "top_5_posts = sorted_df.head(5)\n",
    "\n",
    "# عرض النتيجة كجدول\n",
    "top_5_table = top_5_posts[['text', 'likes', 'comments', 'total_likes_comments', 'url', 'time', 'media/0/__typename']]\n",
    "print(top_5_table)"
   ]
  },
  {
   "cell_type": "code",
   "execution_count": 20,
   "id": "2ad62f35-bbe7-42d5-9170-6722bec23b9d",
   "metadata": {},
   "outputs": [
    {
     "name": "stdout",
     "output_type": "stream",
     "text": [
      "203\n"
     ]
    }
   ],
   "source": [
    "print(len(df2))"
   ]
  },
  {
   "cell_type": "code",
   "execution_count": 11,
   "id": "63cb8280-818d-45d6-bc99-fc14457f4969",
   "metadata": {},
   "outputs": [
    {
     "name": "stdout",
     "output_type": "stream",
     "text": [
      "The highest likes is: 21078\n"
     ]
    }
   ],
   "source": [
    "# Count the occurrences of each likes\n",
    "likes_counts = df['likes'].max()\n",
    "\n",
    "print(f\"The highest likes is: {likes_counts}\")"
   ]
  },
  {
   "cell_type": "code",
   "execution_count": 7,
   "id": "f222e701-b0d3-4d1f-9748-38754923fb95",
   "metadata": {},
   "outputs": [],
   "source": [
    "\n",
    "reels_df = df2[df2['url'].str.startswith('https://www.facebook.com/reel/', na=False)]\n",
    "\n",
    "# Step 3: Save the filtered DataFrame to a new CSV file\n",
    "reels_df.to_csv('mtn_reels.csv', index=False)  # Set index=False to avoid writing row indices\n",
    "\n"
   ]
  },
  {
   "cell_type": "code",
   "execution_count": 8,
   "id": "49a91331-6f45-4555-81cb-9736951daf10",
   "metadata": {
    "scrolled": true
   },
   "outputs": [
    {
     "name": "stdout",
     "output_type": "stream",
     "text": [
      "3\n"
     ]
    }
   ],
   "source": [
    "print(len(reels_df))"
   ]
  },
  {
   "cell_type": "code",
   "execution_count": 11,
   "id": "a99bddcb-d8eb-4819-a6cb-a7a7594f7d70",
   "metadata": {},
   "outputs": [],
   "source": [
    "\n",
    "posts_df = df2[df2['url'].str.startswith('https://www.facebook.com/MTNLoaded/', na=False)]\n",
    "\n",
    "# Step 3: Save the filtered DataFrame to a new CSV file\n",
    "posts_df.to_csv('mtn_just_posts.csv', index=False)  # Set index=False to avoid writing row indices\n",
    "\n"
   ]
  },
  {
   "cell_type": "code",
   "execution_count": 12,
   "id": "49cddd3d-817a-45fe-88aa-7fb1bcdbf63a",
   "metadata": {},
   "outputs": [
    {
     "name": "stdout",
     "output_type": "stream",
     "text": [
      "200\n"
     ]
    }
   ],
   "source": [
    "print(len(posts_df))"
   ]
  },
  {
   "cell_type": "code",
   "execution_count": 13,
   "id": "01e96e73-61da-4247-8e1e-2130b7e2efa5",
   "metadata": {},
   "outputs": [
    {
     "name": "stdout",
     "output_type": "stream",
     "text": [
      "Total likes for posts: 227780\n"
     ]
    }
   ],
   "source": [
    "total_likes = posts_df['likes'].sum()  # Replace 'likes' with the actual name of your likes column\n",
    "\n",
    "# Step 3: Print the total likes\n",
    "print(\"Total likes for posts:\", total_likes)\n"
   ]
  },
  {
   "cell_type": "code",
   "execution_count": 14,
   "id": "666545c4-050e-414f-b82b-195dc6073c52",
   "metadata": {},
   "outputs": [
    {
     "name": "stdout",
     "output_type": "stream",
     "text": [
      "Total comments for post: 24438\n"
     ]
    }
   ],
   "source": [
    "total_comments = posts_df['comments'].sum()  # Replace 'likes' with the actual name of your likes column\n",
    "\n",
    "# Step 3: Print the total likes\n",
    "print(\"Total comments for post:\", total_comments)\n"
   ]
  },
  {
   "cell_type": "code",
   "execution_count": 15,
   "id": "f46e5fa8-59e5-4a07-bb7a-95749fbae315",
   "metadata": {},
   "outputs": [
    {
     "name": "stdout",
     "output_type": "stream",
     "text": [
      "Total likes for reels: 502\n"
     ]
    }
   ],
   "source": [
    "total_likes = reels_df['likes'].sum()  # Replace 'likes' with the actual name of your likes column\n",
    "\n",
    "# Step 3: Print the total likes\n",
    "print(\"Total likes for reels:\", total_likes)\n"
   ]
  },
  {
   "cell_type": "code",
   "execution_count": 23,
   "id": "d437455d-b3a1-4962-ac4d-eeb62ba01418",
   "metadata": {},
   "outputs": [
    {
     "data": {
      "image/png": "[encoded data removed]",
      "text/plain": [
       "<Figure size 500x500 with 1 Axes>"
      ]
     },
     "metadata": {},
     "output_type": "display_data"
    }
   ],
   "source": [
    "import matplotlib.pyplot as plt\n",
    "\n",
    "# Step 2: Convert the timestamp column to datetime\n",
    "df2['time'] = pd.to_datetime(df2['time'])  # Replace 'time' with your actual timestamp column name\n",
    "\n",
    "# Step 3: Filter for the year 2024\n",
    "df_2024 = df2[df2['time'].dt.year == 2024]\n",
    "\n",
    "# Step 4: Group by month and count the number of posts\n",
    "monthly_counts = df_2024.groupby(df_2024['time'].dt.month).size()\n",
    "\n",
    "# Step 5: Plotting the results\n",
    "plt.figure(figsize=(5, 5))\n",
    "monthly_counts.plot(kind='bar', color='orange', alpha=0.8, edgecolor='black', linewidth=1)\n",
    "plt.title('Number of MTN Posts per Month in 2024', fontsize=16, fontweight='bold')\n",
    "plt.xlabel('Month', fontsize=14)\n",
    "plt.ylabel('Number of Posts', fontsize=14)\n",
    "plt.xticks(ticks=range(5), labels=['Aug', 'Sep', 'Oct', 'Nov', 'Dec'], rotation=45, fontsize=12)\n",
    "plt.yticks(fontsize=12)\n",
    "plt.grid(axis='y', linestyle='--', alpha=0.7)\n",
    "plt.tight_layout()\n",
    "plt.savefig('mtn_post_month.png', format='png', bbox_inches='tight')\n",
    "\n",
    "plt.show()"
   ]
  },
  {
   "cell_type": "code",
   "execution_count": 40,
   "id": "80f9c7b9-a57a-4d5d-b5fb-0282b271662e",
   "metadata": {},
   "outputs": [
    {
     "name": "stderr",
     "output_type": "stream",
     "text": [
      "C:\\Users\\LCT\\AppData\\Local\\Temp\\ipykernel_11536\\3251084903.py:6: SettingWithCopyWarning: \n",
      "A value is trying to be set on a copy of a slice from a DataFrame.\n",
      "Try using .loc[row_indexer,col_indexer] = value instead\n",
      "\n",
      "See the caveats in the documentation: https://pandas.pydata.org/pandas-docs/stable/user_guide/indexing.html#returning-a-view-versus-a-copy\n",
      "  df2['time'] = pd.to_datetime(df2['time'])  # Replace 'time' with your actual timestamp column name\n"
     ]
    },
    {
     "data": {
      "image/png": "[encoded data removed]",
      "text/plain": [
       "<Figure size 1200x600 with 1 Axes>"
      ]
     },
     "metadata": {},
     "output_type": "display_data"
    }
   ],
   "source": [
    "import pandas as pd\n",
    "import matplotlib.pyplot as plt\n",
    "\n",
    "# Assuming df2 is your DataFrame and it has been defined earlier\n",
    "# Step 1: Convert the timestamp column to datetime\n",
    "df2['time'] = pd.to_datetime(df2['time'])  # Replace 'time' with your actual timestamp column name\n",
    "\n",
    "# Step 2: Filter for the date range from August 1, 2024, to December 5, 2024\n",
    "start_date = '2024-08-01'\n",
    "end_date = '2024-12-05'\n",
    "df_filtered = df2[(df2['time'] >= start_date) & (df2['time'] <= end_date)]\n",
    "\n",
    "# Step 3: Group by day and count the number of posts\n",
    "daily_counts = df_filtered.groupby(df_filtered['time'].dt.date).size()\n",
    "\n",
    "# Step 4: Prepare data for plotting\n",
    "dates = daily_counts.index\n",
    "counts = daily_counts.values\n",
    "\n",
    "# Step 5: Create the plot\n",
    "plt.figure(figsize=(12, 6))\n",
    "plt.plot(dates, counts, marker='o', linestyle='-', color='orange', alpha=1)\n",
    "\n",
    "# Step 6: Add titles and labels\n",
    "plt.title('MTN Posts per Day from Aug 1, 2024 to Dec 5, 2024', fontsize=16, fontweight='bold')\n",
    "plt.xlabel('Date', fontsize=14)\n",
    "plt.ylabel('Number of Posts', fontsize=14)\n",
    "plt.xticks(rotation=45, fontsize=10)\n",
    "plt.yticks(fontsize=12)\n",
    "plt.axhline(0, color='black', linewidth=0.5, linestyle='--')  # Add a horizontal line at y=0\n",
    "plt.grid(axis='y', linestyle='--', alpha=0.7)\n",
    "plt.tight_layout()\n",
    "\n",
    "# Step 7: Save and show the plot\n",
    "plt.savefig('mtn_day_posts.png', format='png', bbox_inches='tight')\n",
    "plt.show()"
   ]
  },
  {
   "cell_type": "code",
   "execution_count": 2,
   "id": "bb57189a-1d0d-4e77-955a-0e676f4e7138",
   "metadata": {},
   "outputs": [
    {
     "data": {
      "image/png": "[encoded data removed]",
      "text/plain": [
       "<Figure size 500x500 with 1 Axes>"
      ]
     },
     "metadata": {},
     "output_type": "display_data"
    }
   ],
   "source": [
    "import matplotlib.pyplot as plt\n",
    "\n",
    "# Step 2: Convert the timestamp column to datetime\n",
    "df2['time'] = pd.to_datetime(df2['time'])  # Replace 'time' with your actual timestamp column name\n",
    "\n",
    "# Step 3: Filter for the year 2024\n",
    "df_2024 = df2[df2['time'].dt.year == 2024]\n",
    "\n",
    "# Step 4: Remove December\n",
    "df_2024 = df_2024[df_2024['time'].dt.month != 12]\n",
    "\n",
    "# Step 5: Group by month and count the number of posts\n",
    "monthly_counts = df_2024.groupby(df_2024['time'].dt.month).size()\n",
    "\n",
    "# Step 6: Plotting the results\n",
    "plt.figure(figsize=(5, 5))\n",
    "monthly_counts.plot(kind='bar', color='orange', alpha=0.8, edgecolor='black', linewidth=1)\n",
    "plt.title('Number of Airtel Posts per Month in 2024', fontsize=16, fontweight='bold')\n",
    "plt.xlabel('Month', fontsize=14)\n",
    "plt.ylabel('Number of Posts', fontsize=14)\n",
    "plt.xticks(ticks=range(len(monthly_counts)), labels=['Aug', 'Sep', 'Oct', 'Nov'], rotation=45, fontsize=12)\n",
    "plt.yticks(fontsize=12)\n",
    "plt.grid(axis='y', linestyle='--', alpha=0.7)\n",
    "plt.tight_layout()\n",
    "plt.savefig('airtel_post_month.png', format='png', bbox_inches='tight')\n",
    "\n",
    "plt.show()\n"
   ]
  },
  {
   "cell_type": "code",
   "execution_count": null,
   "id": "fa75153f-ec2f-46a9-8e89-0b5ecd15d54c",
   "metadata": {},
   "outputs": [],
   "source": []
  }
 ],
 "metadata": {
  "kernelspec": {
   "display_name": "Python 3 (ipykernel)",
   "language": "python",
   "name": "python3"
  },
  "language_info": {
   "codemirror_mode": {
    "name": "ipython",
    "version": 3
   },
   "file_extension": ".py",
   "mimetype": "text/x-python",
   "name": "python",
   "nbconvert_exporter": "python",
   "pygments_lexer": "ipython3",
   "version": "3.12.7"
  }
 },
 "nbformat": 4,
 "nbformat_minor": 5
}
